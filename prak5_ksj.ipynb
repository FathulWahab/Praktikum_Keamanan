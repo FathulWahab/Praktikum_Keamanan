{
 "cells": [
  {
   "cell_type": "code",
   "execution_count": 1,
   "id": "39b3e7f8-0292-44ae-a692-4d963169653d",
   "metadata": {},
   "outputs": [
    {
     "name": "stdout",
     "output_type": "stream",
     "text": [
      "Cipherteks: PKAVPR\n"
     ]
    }
   ],
   "source": [
    "import numpy as np\n",
    "\n",
    "# Fungsi konversi huruf ke angka (A=0, B=1, ..., Z=25)\n",
    "def text_to_numbers(text):\n",
    "    return [ord(char.upper()) - ord('A') for char in text]\n",
    "\n",
    "# Fungsi konversi angka ke huruf\n",
    "def numbers_to_text(numbers):\n",
    "    return ''.join([chr(num % 26 + ord('A')) for num in numbers])\n",
    "\n",
    "# Fungsi Hill Cipher (enkripsi)\n",
    "def hill_encrypt(plaintext, key_matrix):\n",
    "    # Konversi teks ke angka\n",
    "    nums = text_to_numbers(plaintext)\n",
    "\n",
    "    # Pastikan panjang teks genap untuk matriks 2x2\n",
    "    if len(nums) % 2 != 0:\n",
    "        nums.append(ord('X') - ord('A'))  # Tambah huruf dummy (X)\n",
    "\n",
    "    ciphertext_numbers = []\n",
    "\n",
    "    # Proses enkripsi blok demi blok\n",
    "    for i in range(0, len(nums), 2):\n",
    "        block = np.array([[nums[i]], [nums[i+1]]])\n",
    "        result = np.dot(key_matrix, block) % 26\n",
    "        ciphertext_numbers.extend(result.flatten())\n",
    "\n",
    "    # Konversi hasil ke huruf\n",
    "    ciphertext = numbers_to_text(ciphertext_numbers)\n",
    "    return ciphertext\n",
    "\n",
    "# ===============================\n",
    "# Contoh penggunaan\n",
    "plaintext = \"FATHUL\"\n",
    "key_matrix = np.array([[3, 3],\n",
    "                       [2, 5]])\n",
    "\n",
    "ciphertext = hill_encrypt(plaintext, key_matrix)\n",
    "print(\"Cipherteks:\", ciphertext)\n"
   ]
  }
 ],
 "metadata": {
  "kernelspec": {
   "display_name": "Python 3 (ipykernel)",
   "language": "python",
   "name": "python3"
  },
  "language_info": {
   "codemirror_mode": {
    "name": "ipython",
    "version": 3
   },
   "file_extension": ".py",
   "mimetype": "text/x-python",
   "name": "python",
   "nbconvert_exporter": "python",
   "pygments_lexer": "ipython3",
   "version": "3.12.7"
  }
 },
 "nbformat": 4,
 "nbformat_minor": 5
}
