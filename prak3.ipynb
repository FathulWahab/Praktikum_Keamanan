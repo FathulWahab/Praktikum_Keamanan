{
 "cells": [
  {
   "cell_type": "code",
   "execution_count": 1,
   "id": "1dc2730f-b4d2-4931-93e8-0af5c98f6681",
   "metadata": {},
   "outputs": [
    {
     "name": "stdout",
     "output_type": "stream",
     "text": [
      "Collecting Sastrawi\n",
      "  Downloading Sastrawi-1.0.1-py2.py3-none-any.whl.metadata (909 bytes)\n",
      "Requirement already satisfied: nltk in c:\\users\\lenovo\\anaconda3\\lib\\site-packages (3.9.1)\n",
      "Requirement already satisfied: click in c:\\users\\lenovo\\anaconda3\\lib\\site-packages (from nltk) (8.1.7)\n",
      "Requirement already satisfied: joblib in c:\\users\\lenovo\\anaconda3\\lib\\site-packages (from nltk) (1.4.2)\n",
      "Requirement already satisfied: regex>=2021.8.3 in c:\\users\\lenovo\\anaconda3\\lib\\site-packages (from nltk) (2024.9.11)\n",
      "Requirement already satisfied: tqdm in c:\\users\\lenovo\\anaconda3\\lib\\site-packages (from nltk) (4.66.5)\n",
      "Requirement already satisfied: colorama in c:\\users\\lenovo\\anaconda3\\lib\\site-packages (from click->nltk) (0.4.6)\n",
      "Downloading Sastrawi-1.0.1-py2.py3-none-any.whl (209 kB)\n",
      "Installing collected packages: Sastrawi\n",
      "Successfully installed Sastrawi-1.0.1\n"
     ]
    }
   ],
   "source": [
    "!pip install Sastrawi nltk"
   ]
  },
  {
   "cell_type": "code",
   "execution_count": 5,
   "id": "19a44b81-1ac0-4596-8279-3474534e7040",
   "metadata": {},
   "outputs": [
    {
     "name": "stdout",
     "output_type": "stream",
     "text": [
      "Case Folding : barangnya sesuai harapan, cakep dan mulus. penjualnya juga baik dan ramah. overall, puas banget belanja di sini.\n"
     ]
    }
   ],
   "source": [
    "documen1=\"Barangnya sesuai harapan, cakep dan mulus. Penjualnya juga baik dan ramah. Overall, puas banget belanja di sini.\"  \n",
    "#Case Folding  \n",
    "hasil_cf = str.lower(documen1)  \n",
    "print(\"Case Folding : \"+hasil_cf);"
   ]
  },
  {
   "cell_type": "code",
   "execution_count": 6,
   "id": "e69530ca-67cf-4000-b479-bb9f81684cbb",
   "metadata": {},
   "outputs": [
    {
     "name": "stdout",
     "output_type": "stream",
     "text": [
      "Case Folding : barangnya sesuai harapan, cakep dan mulus, penjualnya juga baik dan ramah. overall, puas banget belanja disini.\n"
     ]
    }
   ],
   "source": [
    "documen1=\"Barangnya sesuai harapan, cakep dan mulus, penjualnya juga baik dan ramah. Overall, puas banget belanja disini.\"\n",
    "#Case Folding\n",
    "hasil_cf = str.lower(documen1)\n",
    "print(\"Case Folding : \"+hasil_cf);"
   ]
  },
  {
   "cell_type": "code",
   "execution_count": 8,
   "id": "f1933045-e194-4412-9b5d-3b8f2df4810d",
   "metadata": {},
   "outputs": [
    {
     "name": "stdout",
     "output_type": "stream",
     "text": [
      "Token:\n",
      "['barangnya', 'sesuai', 'harapan', 'cakep', 'dan', 'mulus', 'penjualnya', 'juga', 'baik', 'dan', 'ramah', 'overall', 'puas', 'banget', 'belanja', 'disini']\n"
     ]
    }
   ],
   "source": [
    "#Tokenizing\n",
    "from nltk.tokenize import RegexpTokenizer\n",
    "tokenizer   = RegexpTokenizer(r'\\w+')\n",
    "hasil_token = tokenizer.tokenize(hasil_cf)\n",
    "print(\"Token:\")\n",
    "print(hasil_token)"
   ]
  },
  {
   "cell_type": "code",
   "execution_count": 9,
   "id": "0313fb4f-e3c8-48f4-9d2f-a6b03324ee11",
   "metadata": {},
   "outputs": [
    {
     "name": "stdout",
     "output_type": "stream",
     "text": [
      "Dokumen: Barangnya sesuai harapan, cakep dan mulus. Penjualnya juga baik dan ramah. Overall, puas banget belanja di sini.\n",
      "Case Folding : barangnya sesuai harapan, cakep dan mulus. penjualnya juga baik dan ramah. overall, puas banget belanja di sini.\n",
      "Token:\n",
      "['barangnya', 'sesuai', 'harapan', 'cakep', 'dan', 'mulus', 'penjualnya', 'juga', 'baik', 'dan', 'ramah', 'overall', 'puas', 'banget', 'belanja', 'di', 'sini']\n",
      "Hasil Stemming:\n",
      "barang sesuai harap cakep dan mulus jual juga baik dan ramah overall puas banget belanja di sini\n",
      "Hasil Setelah Stopword Removal:\n",
      "['barang', 'sesuai', 'harap', 'cakep', 'mulus', 'jual', 'baik', 'ramah', 'overall', 'puas', 'banget', 'belanja', 'sini']\n"
     ]
    }
   ],
   "source": [
    "dokument = \"Barangnya sesuai harapan, cakep dan mulus. Penjualnya juga baik dan ramah. Overall, puas banget belanja di sini.\"\n",
    "print(\"Dokumen: \" + dokument)\n",
    "\n",
    "\n",
    "hasil_cf = str.lower(dokument)\n",
    "print(\"Case Folding : \" + hasil_cf)\n",
    "\n",
    "\n",
    "from nltk.tokenize import RegexpTokenizer\n",
    "tokenizer = RegexpTokenizer(r'\\w+')\n",
    "hasil_token = tokenizer.tokenize(hasil_cf)\n",
    "print(\"Token:\")\n",
    "print(hasil_token)\n",
    "\n",
    "\n",
    "from Sastrawi.Stemmer.StemmerFactory import StemmerFactory \n",
    "factory = StemmerFactory()\n",
    "stemmer = factory.create_stemmer()  \n",
    "input_stem = ' '.join(hasil_token) \n",
    "hasil_stem = stemmer.stem(input_stem)  \n",
    "print(\"Hasil Stemming:\")\n",
    "print(hasil_stem)\n",
    "\n",
    "\n",
    "token_stem = tokenizer.tokenize(hasil_stem)\n",
    "\n",
    "\n",
    "from Sastrawi.StopWordRemover.StopWordRemoverFactory import StopWordRemoverFactory\n",
    "stop_factory = StopWordRemoverFactory()\n",
    "stopwords = stop_factory.get_stop_words()\n",
    "\n",
    "\n",
    "hasil_final = [word for word in token_stem if word not in stopwords]\n",
    "print(\"Hasil Setelah Stopword Removal:\")\n",
    "print(hasil_final)"
   ]
  }
 ],
 "metadata": {
  "kernelspec": {
   "display_name": "Python 3 (ipykernel)",
   "language": "python",
   "name": "python3"
  },
  "language_info": {
   "codemirror_mode": {
    "name": "ipython",
    "version": 3
   },
   "file_extension": ".py",
   "mimetype": "text/x-python",
   "name": "python",
   "nbconvert_exporter": "python",
   "pygments_lexer": "ipython3",
   "version": "3.12.7"
  }
 },
 "nbformat": 4,
 "nbformat_minor": 5
}
